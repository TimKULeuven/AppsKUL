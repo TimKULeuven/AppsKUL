{
 "cells": [
  {
   "cell_type": "markdown",
   "metadata": {},
   "source": [
    "Klik hierboven op *Cell*, en dan *Run all* om deze notebook uit te voeren."
   ]
  },
  {
   "cell_type": "code",
   "execution_count": 76,
   "metadata": {},
   "outputs": [
    {
     "data": {
      "text/html": [
       "<script>\n",
       "  function code_toggle() {\n",
       "    if (code_shown){\n",
       "      $('div.input').hide('500');\n",
       "      $('#toggleButton').val('Toon Python code')\n",
       "    } else {\n",
       "      $('div.input').show('500');\n",
       "      $('#toggleButton').val('Verberg Python code')\n",
       "    }\n",
       "    code_shown = !code_shown\n",
       "  }\n",
       "\n",
       "  $( document ).ready(function(){\n",
       "    code_shown=false;\n",
       "    $('div.input').hide()\n",
       "  });\n",
       "</script>\n",
       "<form action=\"javascript:code_toggle()\"><input type=\"submit\" id=\"toggleButton\" value=\"Toon Python code\"></form>"
      ],
      "text/plain": [
       "<IPython.core.display.HTML object>"
      ]
     },
     "execution_count": 76,
     "metadata": {},
     "output_type": "execute_result"
    }
   ],
   "source": [
    "from IPython.display import HTML\n",
    "\n",
    "HTML('''<script>\n",
    "  function code_toggle() {\n",
    "    if (code_shown){\n",
    "      $('div.input').hide('500');\n",
    "      $('#toggleButton').val('Toon Python code')\n",
    "    } else {\n",
    "      $('div.input').show('500');\n",
    "      $('#toggleButton').val('Verberg Python code')\n",
    "    }\n",
    "    code_shown = !code_shown\n",
    "  }\n",
    "\n",
    "  $( document ).ready(function(){\n",
    "    code_shown=false;\n",
    "    $('div.input').hide()\n",
    "  });\n",
    "</script>\n",
    "<form action=\"javascript:code_toggle()\"><input type=\"submit\" id=\"toggleButton\" value=\"Toon Python code\"></form>''')\n"
   ]
  },
  {
   "cell_type": "code",
   "execution_count": 77,
   "metadata": {},
   "outputs": [],
   "source": [
    "# General Purpose\n",
    "import numpy as np\n",
    "from matplotlib import pyplot as plt\n",
    "from scipy.integrate import odeint\n",
    "\n",
    "# Jupyter Specifics\n",
    "from IPython.display import HTML\n",
    "from ipywidgets.widgets import interact, IntSlider, FloatSlider, Layout\n",
    "\n",
    "%matplotlib inline\n",
    "\n",
    "style = {'description_width': '150px'}\n",
    "slider_layout = Layout(width='50%')"
   ]
  },
  {
   "cell_type": "markdown",
   "metadata": {},
   "source": [
    "## 8.2 De snelheid en de orde van een reactie"
   ]
  },
  {
   "cell_type": "markdown",
   "metadata": {},
   "source": [
    "Hier zouden we eventueel nog wat kadering uit de cursus (dus herhaling van een deel van de cursus, om beter te situeren), of zelfs meer algemeen de relevante wiskundige onderdelen even kunnen herhalen"
   ]
  },
  {
   "cell_type": "markdown",
   "metadata": {},
   "source": [
    "### 8.2.2 Nulde orde reactie"
   ]
  },
  {
   "cell_type": "markdown",
   "metadata": {},
   "source": [
    "$$\\dfrac{d [C]}{d t}=-k_0 $$"
   ]
  },
  {
   "cell_type": "code",
   "execution_count": 78,
   "metadata": {},
   "outputs": [
    {
     "data": {
      "application/vnd.jupyter.widget-view+json": {
       "model_id": "cf6013b2337e4ac3ac066738d6299e0c",
       "version_major": 2,
       "version_minor": 0
      },
      "text/plain": [
       "interactive(children=(FloatSlider(value=0.5, description='$k$', layout=Layout(width='50%'), max=2.0, min=0.5, …"
      ]
     },
     "metadata": {},
     "output_type": "display_data"
    }
   ],
   "source": [
    "def nuldeorde(k,c0):\n",
    "\n",
    "    xmax=10\n",
    "    ymax=5\n",
    "    def c(t):\n",
    "        return c0-k*t\n",
    "    t = np.linspace(0,xmax,100)\n",
    "    plt.figure(figsize=(10,7))\n",
    "    plt.subplot(111)\n",
    "    plt.plot(t,c(t), 'k',label='$[C](t)$')\n",
    "    plt.plot([0,c0/2/k], [c0/2,c0/2], 'k--')\n",
    "    plt.plot([c0/2/k,c0/2/k], [c0/2,0], 'k--')\n",
    "    plt.text(0.1,c0+0.1,'$[C](0)$', fontsize=12)\n",
    "    plt.text(0.1,c0/2+0.15,'$\\dfrac{[C](0)}{2}$', fontsize=12)\n",
    "    plt.text(c0/2/k+0.1,0.15,'$t_{1/2}$', fontsize=12)\n",
    "    plt.xlim(0,xmax)\n",
    "    plt.ylim(0,ymax)\n",
    "    plt.legend()\n",
    "    plt.xlabel('t')\n",
    "    plt.show()\n",
    "\n",
    "\n",
    "interact(nuldeorde, k=FloatSlider(min=0.5, max=2, step=0.5, value=0.5, description='$k$', style=style, layout=slider_layout)\n",
    "        , c0=FloatSlider(min=1, max=4, step=1, value=4, description='$[C](0)$', style=style, layout=slider_layout));"
   ]
  },
  {
   "cell_type": "markdown",
   "metadata": {},
   "source": [
    "### 8.2.3 Eerste orde"
   ]
  },
  {
   "cell_type": "markdown",
   "metadata": {},
   "source": [
    "$$\\dfrac{d [C]}{d t}=-k [C] $$"
   ]
  },
  {
   "cell_type": "code",
   "execution_count": 79,
   "metadata": {},
   "outputs": [
    {
     "data": {
      "application/vnd.jupyter.widget-view+json": {
       "model_id": "458a7bfab33c4c0696df393abdf5e993",
       "version_major": 2,
       "version_minor": 0
      },
      "text/plain": [
       "interactive(children=(FloatSlider(value=0.5, description='$k$', layout=Layout(width='50%'), max=2.0, min=0.5, …"
      ]
     },
     "metadata": {},
     "output_type": "display_data"
    }
   ],
   "source": [
    "def eersteorde(k,c0):\n",
    "\n",
    "    xmax=10\n",
    "    ymax=5\n",
    "    def c(t):\n",
    "        return c0*np.exp(-k*t)\n",
    "    t = np.linspace(0,xmax,100)\n",
    "    plt.figure(figsize=(10,7))\n",
    "    plt.subplot(111)\n",
    "    plt.plot(t,c(t), 'k',label='$[C](t)$')\n",
    "    plt.plot([0,np.log(2)/k], [c0/2,c0/2], 'k--')\n",
    "    plt.plot([np.log(2)/k,np.log(2)/k], [c0/2,0], 'k--')\n",
    "    plt.text(0.1,c0+0.1,'$[C](0)$', fontsize=12)\n",
    "    plt.text(0.1,c0/2+0.15,'$\\dfrac{[C](0)}{2}$', fontsize=12)\n",
    "    plt.text(np.log(2)/k+0.1,0.15,'$t_{1/2}$', fontsize=12)\n",
    "    plt.xlim(0,xmax)\n",
    "    plt.ylim(0,ymax)\n",
    "    plt.legend()\n",
    "    plt.xlabel('t')\n",
    "    plt.show()\n",
    "\n",
    "\n",
    "interact(eersteorde, k=FloatSlider(min=0.5, max=2, step=0.5, value=0.5, description='$k$', style=style, layout=slider_layout)\n",
    "        , c0=FloatSlider(min=1, max=4, step=1, value=4, description='$[C](0)$', style=style, layout=slider_layout));"
   ]
  },
  {
   "cell_type": "markdown",
   "metadata": {},
   "source": [
    "### Tweede orde"
   ]
  },
  {
   "cell_type": "markdown",
   "metadata": {},
   "source": [
    "$$\\dfrac{d [C]}{d t}=-k [C]^2 $$"
   ]
  },
  {
   "cell_type": "code",
   "execution_count": 80,
   "metadata": {},
   "outputs": [
    {
     "data": {
      "application/vnd.jupyter.widget-view+json": {
       "model_id": "4aff2f5490d44291b9d8a687bb615b8d",
       "version_major": 2,
       "version_minor": 0
      },
      "text/plain": [
       "interactive(children=(FloatSlider(value=0.5, description='$k$', layout=Layout(width='50%'), max=1.0, min=0.1, …"
      ]
     },
     "metadata": {},
     "output_type": "display_data"
    }
   ],
   "source": [
    "def tweedeorde(k,c0):\n",
    "\n",
    "    xmax=10\n",
    "    ymax=5\n",
    "    def c(t):\n",
    "        return c0/(1+k*t*c0)\n",
    "    t = np.linspace(0,xmax,100)\n",
    "    plt.figure(figsize=(10,7))\n",
    "    plt.subplot(111)\n",
    "    plt.plot(t,c(t), 'k',label='$[C](t)$')\n",
    "    plt.plot([0,1/(k*c0)], [c0/2,c0/2], 'k--')\n",
    "    plt.plot([1/(k*c0),1/(k*c0)], [c0/2,0], 'k--')\n",
    "    plt.text(0.1,c0+0.1,'$[C](0)$', fontsize=12)\n",
    "    plt.text(0.1,c0/2+0.15,'$\\dfrac{[C](0)}{2}$', fontsize=12)\n",
    "    plt.text(1/(k*c0)+0.1,0.15,'$t_{1/2}$', fontsize=12)\n",
    "    plt.xlim(0,xmax)\n",
    "    plt.ylim(0,ymax)\n",
    "    plt.legend()\n",
    "    plt.xlabel('t')\n",
    "    plt.show()\n",
    "\n",
    "\n",
    "interact(tweedeorde, k=FloatSlider(min=0.1, max=1, step=0.1, value=0.5, description='$k$', style=style, layout=slider_layout)\n",
    "        , c0=FloatSlider(min=1, max=4, step=1, value=4, description='$[C](0)$', style=style, layout=slider_layout));"
   ]
  },
  {
   "cell_type": "markdown",
   "metadata": {},
   "source": [
    "$$\\require{mhchem}\n",
    "\\ce{A + B ->[k] C}$$"
   ]
  },
  {
   "cell_type": "markdown",
   "metadata": {},
   "source": [
    "$$\n",
    "\\begin{aligned}\n",
    "\\dfrac{d [A]}{d t}&=-k [A] [B]\\\\\n",
    "\\dfrac{d [B]}{d t}&=-k [A] [B]\\\\\n",
    "\\dfrac{d [C]}{d t}&=k [A] [B]\n",
    "\\end{aligned} $$"
   ]
  },
  {
   "cell_type": "code",
   "execution_count": 81,
   "metadata": {},
   "outputs": [
    {
     "data": {
      "application/vnd.jupyter.widget-view+json": {
       "model_id": "fbf118432ed549daa719cf0ba09b64fc",
       "version_major": 2,
       "version_minor": 0
      },
      "text/plain": [
       "interactive(children=(FloatSlider(value=2.5, description='$[A](0)$', layout=Layout(width='50%'), max=4.0, step…"
      ]
     },
     "metadata": {},
     "output_type": "display_data"
    }
   ],
   "source": [
    "def tweedeordeabc(a0,b0,c0,k): \n",
    "    \n",
    "    init=[a0,b0,c0]            #initiële condities in vector formaat\n",
    "\n",
    "\n",
    "\n",
    "\n",
    "    def dXdt(x,tijd):              #functie die de afgeleiden berekend voor de toestanden x=[a,e,ae,s] op een tijdstip tijd\n",
    "        a,b,c = x\n",
    "        dxdt=[-k*a*b,-k*a*b,k*a*b]\n",
    "        return dxdt\n",
    "\n",
    "\n",
    "\n",
    "    tijd = np.linspace(0,10,100)   #tijdstippen waarop we de toestanden willen berekenen, tijd=[0,0.1,0.2,...,10]\n",
    "\n",
    "    oplossing = odeint(dXdt,init,tijd) #de functie odeint berekent de numerieke benadering van de analytische oplossing, \n",
    "                                       #voor initiële condities init, op de tijdstippen tijd.\n",
    "\n",
    "\n",
    "    plt.figure(figsize=(10,7))     #de oplossing uittekenen\n",
    "    plt.subplot(1,1,1)\n",
    "    plt.plot(tijd, oplossing[:,0],'g-',label='[A]')\n",
    "    plt.plot(tijd, oplossing[:,1],'r-',label='[B]')\n",
    "    plt.plot(tijd, oplossing[:,2],'b-',label='[C]')\n",
    "    plt.legend()\n",
    "    plt.xlim(0,10)\n",
    "    plt.ylim(0,5)\n",
    "    plt.xlabel('t [h]')\n",
    "    plt.show()\n",
    "    \n",
    "interact(tweedeordeabc, k=FloatSlider(min=0.1, max=1, step=0.1, value=0.5, description='$k$', style=style, layout=slider_layout)\n",
    "        , a0=FloatSlider(min=0, max=4, step=0.5, value=2.5, description='$[A](0)$', style=style, layout=slider_layout)\n",
    "        , b0=FloatSlider(min=0, max=4, step=0.5, value=2, description='$[B](0)$', style=style, layout=slider_layout)\n",
    "        , c0=FloatSlider(min=0, max=1, step=0.5, value=0, description='$[C](0)$', style=style, layout=slider_layout));"
   ]
  },
  {
   "cell_type": "markdown",
   "metadata": {},
   "source": [
    "## 3.2 Oplossnelheid"
   ]
  },
  {
   "cell_type": "markdown",
   "metadata": {},
   "source": [
    "De vergelijking van Nernst-Brunner wordt gegeven door"
   ]
  },
  {
   "cell_type": "code",
   "execution_count": null,
   "metadata": {},
   "outputs": [],
   "source": []
  },
  {
   "cell_type": "markdown",
   "metadata": {},
   "source": [
    "$$\n",
    "\\dfrac{d C}{d t} = \\dfrac{D S}{V h} \\left(C_s - C \\right)\n",
    "$$"
   ]
  },
  {
   "cell_type": "markdown",
   "metadata": {},
   "source": [
    "De Hixson-Crowell kubieke wortel vergelijking wordt gegeven door"
   ]
  },
  {
   "cell_type": "markdown",
   "metadata": {},
   "source": [
    "$$M_0^{1/3}-M^{1/3}=K t$$"
   ]
  },
  {
   "cell_type": "code",
   "execution_count": 82,
   "metadata": {},
   "outputs": [
    {
     "data": {
      "application/vnd.jupyter.widget-view+json": {
       "model_id": "adcd5fa70b3440b89b38eb1613fb38c1",
       "version_major": 2,
       "version_minor": 0
      },
      "text/plain": [
       "interactive(children=(FloatSlider(value=0.5, description='$K$', layout=Layout(width='50%'), max=1.0, min=0.1, …"
      ]
     },
     "metadata": {},
     "output_type": "display_data"
    }
   ],
   "source": [
    "def oplossenII(K,c0):\n",
    "\n",
    "    xmax=10\n",
    "    ymax=5\n",
    "    def c(t):\n",
    "        return -K**3*t**3 + 3*K**2*t**2*c0**(1/3)-3*K*t*c0**(2/3)+c0\n",
    "    t = np.linspace(0,xmax,100)\n",
    "    plt.figure(figsize=(10,7))\n",
    "    plt.subplot(111)\n",
    "    plt.plot(t,c(t), 'k',label='$M(t)$')\n",
    "    plt.xlim(0,xmax)\n",
    "    plt.ylim(0,ymax)\n",
    "    plt.legend()\n",
    "    plt.xlabel('t')\n",
    "    plt.show()\n",
    "\n",
    "\n",
    "interact(oplossenII, K=FloatSlider(min=0.1, max=1, step=0.1, value=0.5, description='$K$', style=style, layout=slider_layout)\n",
    "        , c0=FloatSlider(min=1, max=4, step=1, value=4, description='$M_0$', style=style, layout=slider_layout));"
   ]
  },
  {
   "cell_type": "code",
   "execution_count": null,
   "metadata": {},
   "outputs": [],
   "source": []
  }
 ],
 "metadata": {
  "kernelspec": {
   "display_name": "Python 3",
   "language": "python",
   "name": "python3"
  },
  "language_info": {
   "codemirror_mode": {
    "name": "ipython",
    "version": 3
   },
   "file_extension": ".py",
   "mimetype": "text/x-python",
   "name": "python",
   "nbconvert_exporter": "python",
   "pygments_lexer": "ipython3",
   "version": "3.7.4"
  }
 },
 "nbformat": 4,
 "nbformat_minor": 4
}
