{
 "cells": [
  {
   "cell_type": "markdown",
   "metadata": {},
   "source": [
    "Klik hierboven op *Cell*, en dan *Run all* om deze notebook uit te voeren."
   ]
  },
  {
   "cell_type": "code",
   "execution_count": 1,
   "metadata": {},
   "outputs": [
    {
     "data": {
      "text/html": [
       "<script>\n",
       "  function code_toggle() {\n",
       "    if (code_shown){\n",
       "      $('div.input').hide('500');\n",
       "      $('#toggleButton').val('Toon Python code')\n",
       "    } else {\n",
       "      $('div.input').show('500');\n",
       "      $('#toggleButton').val('Verberg Python code')\n",
       "    }\n",
       "    code_shown = !code_shown\n",
       "  }\n",
       "\n",
       "  $( document ).ready(function(){\n",
       "    code_shown=false;\n",
       "    $('div.input').hide()\n",
       "  });\n",
       "</script>\n",
       "<form action=\"javascript:code_toggle()\"><input type=\"submit\" id=\"toggleButton\" value=\"Toon Python code\"></form>"
      ],
      "text/plain": [
       "<IPython.core.display.HTML object>"
      ]
     },
     "execution_count": 1,
     "metadata": {},
     "output_type": "execute_result"
    }
   ],
   "source": [
    "from IPython.display import HTML\n",
    "\n",
    "HTML('''<script>\n",
    "  function code_toggle() {\n",
    "    if (code_shown){\n",
    "      $('div.input').hide('500');\n",
    "      $('#toggleButton').val('Toon Python code')\n",
    "    } else {\n",
    "      $('div.input').show('500');\n",
    "      $('#toggleButton').val('Verberg Python code')\n",
    "    }\n",
    "    code_shown = !code_shown\n",
    "  }\n",
    "\n",
    "  $( document ).ready(function(){\n",
    "    code_shown=false;\n",
    "    $('div.input').hide()\n",
    "  });\n",
    "</script>\n",
    "<form action=\"javascript:code_toggle()\"><input type=\"submit\" id=\"toggleButton\" value=\"Toon Python code\"></form>''')"
   ]
  },
  {
   "cell_type": "code",
   "execution_count": 2,
   "metadata": {},
   "outputs": [],
   "source": [
    "# General Purpose\n",
    "import numpy as np\n",
    "from matplotlib import pyplot as plt\n",
    "from scipy.integrate import odeint\n",
    "\n",
    "# Jupyter Specifics\n",
    "from IPython.display import HTML\n",
    "from ipywidgets.widgets import interact, IntSlider, FloatSlider, Layout\n",
    "\n",
    "%matplotlib inline\n",
    "\n",
    "style = {'description_width': '150px'}\n",
    "slider_layout = Layout(width='50%')"
   ]
  },
  {
   "cell_type": "markdown",
   "metadata": {},
   "source": [
    "## 8.2 De snelheid en de orde van een reactie"
   ]
  },
  {
   "cell_type": "markdown",
   "metadata": {},
   "source": [
    "### 8.2.2 Nulde orde reactie"
   ]
  },
  {
   "cell_type": "markdown",
   "metadata": {},
   "source": [
    "Stel dat de afbraak van een stof C in een oplossing verloopt volgens een nulde orde reactie. Dan wordt de snelheidsvergelijking voor de concentratie aan C gegeven door:\n",
    "$$\\dfrac{d [C]}{d t}=-k_0, $$\n",
    "waar we vaststellen dat deze lineair afneemt met de tijd.\n",
    "\n",
    "In de cursus vonden we dat de oplossing voor deze vergelijking gegeven wordt door:\n",
    "$$\n",
    "[C](t) = [C](0) - k_0 t,\n",
    "$$\n",
    "\n",
    "met $[C](0)$ de initiële conditie, dus de concentratie aan C op tijdstip $t=0$. Hieruit kunnen we eenvoudig berekenen dat de halfwaardetijd gegeven wordt door:\n",
    "\n",
    "$$\n",
    "t_{1/2}=\\dfrac{[C](0)}{2 k_0}.\n",
    "$$"
   ]
  },
  {
   "cell_type": "code",
   "execution_count": 3,
   "metadata": {},
   "outputs": [
    {
     "data": {
      "application/vnd.jupyter.widget-view+json": {
       "model_id": "8dcd76e8fcb249bcb708fde8f433aa42",
       "version_major": 2,
       "version_minor": 0
      },
      "text/plain": [
       "interactive(children=(FloatSlider(value=0.5, description='$k$', layout=Layout(width='50%'), max=2.0, min=0.5, …"
      ]
     },
     "metadata": {},
     "output_type": "display_data"
    }
   ],
   "source": [
    "def nuldeorde(k,c0):\n",
    "\n",
    "    xmax=10\n",
    "    ymax=5\n",
    "    def c(t):\n",
    "        return c0-k*t\n",
    "    t = np.linspace(0,xmax,100)\n",
    "    plt.figure(figsize=(10,7))\n",
    "    plt.subplot(111)\n",
    "    plt.plot(t,c(t), 'k',label='$[C](t)$')\n",
    "    plt.plot([0,c0/2/k], [c0/2,c0/2], 'k--')\n",
    "    plt.plot([c0/2/k,c0/2/k], [c0/2,0], 'k--')\n",
    "    plt.text(0.1,c0+0.1,'$[C](0)$', fontsize=12)\n",
    "    plt.text(0.1,c0/2+0.15,'$\\dfrac{[C](0)}{2}$', fontsize=12)\n",
    "    plt.text(c0/2/k+0.1,0.15,'$t_{1/2}$', fontsize=12)\n",
    "    plt.xlim(0,xmax)\n",
    "    plt.ylim(0,ymax)\n",
    "    plt.legend()\n",
    "    plt.xlabel('t')\n",
    "    plt.show()\n",
    "\n",
    "\n",
    "interact(nuldeorde, k=FloatSlider(min=0.5, max=2, step=0.5, value=0.5, description='$k$', style=style, layout=slider_layout)\n",
    "        , c0=FloatSlider(min=1, max=4, step=1, value=4, description='$[C](0)$', style=style, layout=slider_layout));"
   ]
  },
  {
   "cell_type": "markdown",
   "metadata": {},
   "source": [
    "### 8.2.3 Eerste orde"
   ]
  },
  {
   "cell_type": "markdown",
   "metadata": {},
   "source": [
    "Stel dat de afbraak van een stof C in een oplossing verloopt volgens de elementaire, eerste orde reactie\n",
    "\n",
    "$$\\require{mhchem}\n",
    "\\ce{C ->[k] P},$$\n",
    "\n",
    "met P een product. Dan wordt de snelheidsvergelijking voor de concentratie aan C gegeven door:\n",
    "\n",
    "$$\n",
    "\\dfrac{d [C]}{d t}=-k [C].\n",
    "$$\n",
    "\n",
    "In de cursus vonden we dat de oplossing voor deze vergelijking gegeven wordt door:\n",
    "$$\n",
    "[C](t) = [C](0) e^{-k t},\n",
    "$$\n",
    "\n",
    "met $[C](0)$ de initiële conditie, op basis waarvan we vinden dat de halfwaardetijd gegeven wordt door:\n",
    "\n",
    "$$\n",
    "t_{1/2}=\\dfrac{\\ln 2}{k}.\n",
    "$$\n",
    "\n",
    "Bovendien kunnen we nu ook de concentratie aan P op elk tijdstip modelleren. Deze is namelijk gelijk aan de hoeveelheid P die op tijdstip nul aanwezig was, $[P](0)$, verhoogd met de hoeveelheid C die op tijdstip $t$ reeds in P is omgezet, $[C](0)-[C](t) = [C](0)-[C](0) e^{-k t}$, en dus:\n",
    "\n",
    "$$\n",
    "[P](t)=[P](0) + [C](0)(1 - e^{-k t}).\n",
    "$$"
   ]
  },
  {
   "cell_type": "code",
   "execution_count": 4,
   "metadata": {
    "scrolled": false
   },
   "outputs": [
    {
     "data": {
      "application/vnd.jupyter.widget-view+json": {
       "model_id": "b3e2e761485c40f588166c3480d93048",
       "version_major": 2,
       "version_minor": 0
      },
      "text/plain": [
       "interactive(children=(FloatSlider(value=0.5, description='$k$', layout=Layout(width='50%'), max=2.0, min=0.5, …"
      ]
     },
     "metadata": {},
     "output_type": "display_data"
    }
   ],
   "source": [
    "def eersteorde(k,c0,p0):\n",
    "\n",
    "    xmax=10\n",
    "    ymax=5\n",
    "    def c(t):\n",
    "        return c0*np.exp(-k*t)\n",
    "    def p(t):\n",
    "        return p0 + c0*(1-np.exp(-k*t))\n",
    "    t = np.linspace(0,xmax,100)\n",
    "    plt.figure(figsize=(10,7))\n",
    "    plt.subplot(111)\n",
    "    plt.plot(t,c(t), 'k',label='$[C](t)$')\n",
    "    plt.plot(t,p(t), 'k:',label='$[P](t)$')\n",
    "    plt.plot([0,np.log(2)/k], [c0/2,c0/2], 'k--')\n",
    "    plt.plot([np.log(2)/k,np.log(2)/k], [c0/2,0], 'k--')\n",
    "    plt.text(0.1,c0+0.1,'$[C](0)$', fontsize=12)\n",
    "    plt.text(0.1,c0/2+0.15,'$\\dfrac{[C](0)}{2}$', fontsize=12)\n",
    "    plt.text(np.log(2)/k+0.1,0.15,'$t_{1/2}$', fontsize=12)\n",
    "    plt.xlim(0,xmax)\n",
    "    plt.ylim(0,ymax)\n",
    "    plt.legend()\n",
    "    plt.xlabel('t')\n",
    "    plt.show()\n",
    "\n",
    "\n",
    "interact(eersteorde, k=FloatSlider(min=0.5, max=2, step=0.5, value=0.5, description='$k$', style=style, layout=slider_layout)\n",
    "        , c0=FloatSlider(min=1, max=4, step=1, value=4, description='$[C](0)$', style=style, layout=slider_layout), \n",
    "         p0=FloatSlider(min=0, max=3, step=1, value=0, description='$[P](0)$', style=style, layout=slider_layout));"
   ]
  },
  {
   "cell_type": "markdown",
   "metadata": {},
   "source": [
    "### 8.2.4 Tweede orde reacties"
   ]
  },
  {
   "cell_type": "markdown",
   "metadata": {},
   "source": [
    "Stel dat de afbraak van een stof C in een oplossing verloopt volgens de elementaire, tweede orde reactie\n",
    "\n",
    "$$\\require{mhchem}\n",
    "\\ce{2 C ->[k] P},$$\n",
    "\n",
    "met P een product. Dan wordt de snelheidsvergelijking voor de concentratie aan C gegeven door:\n",
    "$$\\dfrac{d [C]}{d t}=-k [C]^2. $$\n",
    "\n",
    "In de cursus vonden we dat de oplossing voor deze vergelijking gegeven wordt door:\n",
    "$$\n",
    "[C](t) = \\dfrac{[C](0)}{1+kt[C](0)},\n",
    "$$\n",
    "\n",
    "met $[C](0)$ de initiële conditie. Als halfwaardetijd vinden we:\n",
    "\n",
    "$$\n",
    "t_{1/2}=\\dfrac{1}{k [C](0)}.\n",
    "$$\n"
   ]
  },
  {
   "cell_type": "code",
   "execution_count": 5,
   "metadata": {},
   "outputs": [
    {
     "data": {
      "application/vnd.jupyter.widget-view+json": {
       "model_id": "563562526ebf4635b05356eb13355fca",
       "version_major": 2,
       "version_minor": 0
      },
      "text/plain": [
       "interactive(children=(FloatSlider(value=0.5, description='$k$', layout=Layout(width='50%'), max=1.0, min=0.1, …"
      ]
     },
     "metadata": {},
     "output_type": "display_data"
    }
   ],
   "source": [
    "def tweedeorde(k,c0):\n",
    "\n",
    "    xmax=10\n",
    "    ymax=5\n",
    "    def c(t):\n",
    "        return c0/(1+k*t*c0)\n",
    "    t = np.linspace(0,xmax,100)\n",
    "    plt.figure(figsize=(10,7))\n",
    "    plt.subplot(111)\n",
    "    plt.plot(t,c(t), 'k',label='$[C](t)$')\n",
    "    plt.plot([0,1/(k*c0)], [c0/2,c0/2], 'k--')\n",
    "    plt.plot([1/(k*c0),1/(k*c0)], [c0/2,0], 'k--')\n",
    "    plt.text(0.1,c0+0.1,'$[C](0)$', fontsize=12)\n",
    "    plt.text(0.1,c0/2+0.15,'$\\dfrac{[C](0)}{2}$', fontsize=12)\n",
    "    plt.text(1/(k*c0)+0.1,0.15,'$t_{1/2}$', fontsize=12)\n",
    "    plt.xlim(0,xmax)\n",
    "    plt.ylim(0,ymax)\n",
    "    plt.legend()\n",
    "    plt.xlabel('t')\n",
    "    plt.show()\n",
    "\n",
    "\n",
    "interact(tweedeorde, k=FloatSlider(min=0.1, max=1, step=0.1, value=0.5, description='$k$', style=style, layout=slider_layout)\n",
    "        , c0=FloatSlider(min=1, max=4, step=1, value=4, description='$[C](0)$', style=style, layout=slider_layout));"
   ]
  },
  {
   "cell_type": "markdown",
   "metadata": {},
   "source": [
    "Wanneer we ons geconfronteerd zien met een meer algemene elementaire, tweede orde reactie, waarin de stoffen A en B reageren tot producten, in dit voorbeeld meer specifiek te stof C, dus:\n",
    "\n",
    "$$\\require{mhchem}\n",
    "\\ce{A + B ->[k] C},$$\n",
    "\n",
    "dan veranderen de concentraties $[A]$, $[B]$ en $[C]$ als volgt doorheen de tijd:\n",
    "\n",
    "$$\n",
    "\\begin{aligned}\n",
    "\\dfrac{d [A]}{d t}&=-k [A] [B],\\\\\n",
    "\\dfrac{d [B]}{d t}&=-k [A] [B],\\\\\n",
    "\\dfrac{d [C]}{d t}&=k [A] [B].\n",
    "\\end{aligned} $$\n",
    "\n",
    "In the cursus fysicochemie werd een oplossing voor dit stelsel gevonden."
   ]
  },
  {
   "cell_type": "code",
   "execution_count": 6,
   "metadata": {},
   "outputs": [
    {
     "data": {
      "application/vnd.jupyter.widget-view+json": {
       "model_id": "b0a2f09197684e33b84b29deb04fadeb",
       "version_major": 2,
       "version_minor": 0
      },
      "text/plain": [
       "interactive(children=(FloatSlider(value=2.5, description='$[A](0)$', layout=Layout(width='50%'), max=4.0, step…"
      ]
     },
     "metadata": {},
     "output_type": "display_data"
    }
   ],
   "source": [
    "def tweedeordeabc(a0,b0,c0,k): \n",
    "    \n",
    "    init=[a0,b0,c0]            #initiële condities in vector formaat\n",
    "\n",
    "\n",
    "\n",
    "\n",
    "    def dXdt(x,tijd):              #functie die de afgeleiden berekend voor de toestanden x=[a,e,ae,s] op een tijdstip tijd\n",
    "        a,b,c = x\n",
    "        dxdt=[-k*a*b,-k*a*b,k*a*b]\n",
    "        return dxdt\n",
    "\n",
    "\n",
    "\n",
    "    tijd = np.linspace(0,10,100)   #tijdstippen waarop we de toestanden willen berekenen, tijd=[0,0.1,0.2,...,10]\n",
    "\n",
    "    oplossing = odeint(dXdt,init,tijd) #de functie odeint berekent de numerieke benadering van de analytische oplossing, \n",
    "                                       #voor initiële condities init, op de tijdstippen tijd.\n",
    "\n",
    "\n",
    "    plt.figure(figsize=(10,7))     #de oplossing uittekenen\n",
    "    plt.subplot(1,1,1)\n",
    "    plt.plot(tijd, oplossing[:,0],'g-',label='[A]')\n",
    "    plt.plot(tijd, oplossing[:,1],'r-',label='[B]')\n",
    "    plt.plot(tijd, oplossing[:,2],'b-',label='[C]')\n",
    "    plt.legend()\n",
    "    plt.xlim(0,10)\n",
    "    plt.ylim(0,5)\n",
    "    plt.xlabel('t [h]')\n",
    "    plt.show()\n",
    "    \n",
    "interact(tweedeordeabc, k=FloatSlider(min=0.1, max=1, step=0.1, value=0.5, description='$k$', style=style, layout=slider_layout)\n",
    "        , a0=FloatSlider(min=0, max=4, step=0.5, value=2.5, description='$[A](0)$', style=style, layout=slider_layout)\n",
    "        , b0=FloatSlider(min=0, max=4, step=0.5, value=2, description='$[B](0)$', style=style, layout=slider_layout)\n",
    "        , c0=FloatSlider(min=0, max=1, step=0.5, value=0, description='$[C](0)$', style=style, layout=slider_layout));"
   ]
  },
  {
   "cell_type": "markdown",
   "metadata": {},
   "source": [
    "## 3.2 Oplossnelheid"
   ]
  },
  {
   "cell_type": "markdown",
   "metadata": {},
   "source": [
    "De snelheid waarmee een stof, C, oplost in een dissolutiemedium kan voorgesteld worden\n",
    "door de vergelijking van Nernst-Brunner:\n",
    "\n",
    "$$\n",
    "\\dfrac{d [C]}{d t} = \\dfrac{D S}{V h} \\left(C_s - [C] \\right),\n",
    "$$\n",
    "\n",
    "met $D\\,[ \\text{m}^2 / \\text{s}]$ de diffusiecoëfficiënt van het opgeloste product, $S\\,[ \\text{m}^2 ]$ het oppervlak van de interface tussen vloeistof en vaste stof,\n",
    "$h\\,[ \\text{m}]$ de dikte van de diffusielaag, $C_s\\,[ \\text{g} / \\text{m}^3]$ de oplosbaarheid, $V \\,[ \\text{m}^3]$ het volume\n",
    "van het oplosmiddel, en $[C] \\,[ \\text{g} / \\text{m}^3]$ de concentratie van de opgeloste stof op tijdstip $t$."
   ]
  },
  {
   "cell_type": "code",
   "execution_count": 7,
   "metadata": {},
   "outputs": [
    {
     "data": {
      "application/vnd.jupyter.widget-view+json": {
       "model_id": "41e949735dc1417a94cbe76a840fed25",
       "version_major": 2,
       "version_minor": 0
      },
      "text/plain": [
       "interactive(children=(FloatSlider(value=1.0, description='$\\\\dfrac{DS}{Vh}$', layout=Layout(width='50%'), max=…"
      ]
     },
     "metadata": {},
     "output_type": "display_data"
    }
   ],
   "source": [
    "def nernstBrunner(a,Cs,C0):\n",
    "\n",
    "    xmax=10\n",
    "    ymax=2.2\n",
    "    def c(t):\n",
    "        return (-Cs+C0+Cs*np.exp((a)*t))*np.exp(-(a)*t)\n",
    "    t = np.linspace(0,xmax,100)\n",
    "    plt.figure(figsize=(10,7))\n",
    "    plt.subplot(111)\n",
    "    plt.plot(t,c(t), 'k',label='$[C](t)$')\n",
    "    plt.xlim(0,xmax)\n",
    "    plt.ylim(0,ymax)\n",
    "    plt.legend()\n",
    "    plt.xlabel('t')\n",
    "    plt.show()\n",
    "\n",
    "\n",
    "interact(nernstBrunner, a=FloatSlider(min=0.2, max=2, step=0.2, value=1, description='$\\dfrac{DS}{Vh}$', style=style, layout=slider_layout)\n",
    "        , Cs=FloatSlider(min=0.2, max=2, step=0.2, value=1, description='$Cs$', style=style, layout=slider_layout)\n",
    "        , C0=FloatSlider(min=0, max=2, step=0.2, value=0, description='$[C](0)$', style=style, layout=slider_layout));"
   ]
  },
  {
   "cell_type": "markdown",
   "metadata": {},
   "source": [
    "We stellen vast dat de oplossnelheid afhankelijk is van het oppervlak van de interface tussen vloeistof en vaste stof, $S$. Na wat logisch denkwerk realiseren we ons dat deze oppervlakte gedurende het oplosproces moet variëren, bijvoorbeeld omdat het op te lossen vaste stof partikel kleiner wordt. Daar de Nernst-Brunner vergelijking van een constante oppervlakte uitgaat, is deze vergelijking (net als elk model) een vereenvoudiging van de werkelijkheid.\n",
    "\n",
    "De Hixson-Crowell kubieke wortel vergelijking drukt een iets complexer model voor de oplossnelheid uit, door wel rekening te houden met de variërende oppervlakte van de interface. Deze wordt gegeven door\n",
    "\n",
    "$$M_0^{1/3}-M^{1/3}=K t,$$\n",
    "\n",
    "met $M_0$ de originele massa van de op te lossen deeltjes, $M$ de massa aan niet-opgeloste\n",
    "deeltjes en $K$ de kubieke-wortel-snelheidsconstante."
   ]
  },
  {
   "cell_type": "code",
   "execution_count": 8,
   "metadata": {},
   "outputs": [
    {
     "data": {
      "application/vnd.jupyter.widget-view+json": {
       "model_id": "9a7e9d7fd5fd482293f87d91b5e78acf",
       "version_major": 2,
       "version_minor": 0
      },
      "text/plain": [
       "interactive(children=(FloatSlider(value=0.5, description='$K$', layout=Layout(width='50%'), max=1.0, min=0.1, …"
      ]
     },
     "metadata": {},
     "output_type": "display_data"
    }
   ],
   "source": [
    "def oplossenII(K,c0):\n",
    "\n",
    "    xmax=10\n",
    "    ymax=5\n",
    "    def c(t):\n",
    "        return -K**3*t**3 + 3*K**2*t**2*c0**(1/3)-3*K*t*c0**(2/3)+c0\n",
    "    t = np.linspace(0,xmax,100)\n",
    "    plt.figure(figsize=(10,7))\n",
    "    plt.subplot(111)\n",
    "    plt.plot(t,c(t), 'k',label='$M(t)$')\n",
    "    plt.xlim(0,xmax)\n",
    "    plt.ylim(0,ymax)\n",
    "    plt.legend()\n",
    "    plt.xlabel('t')\n",
    "    plt.show()\n",
    "\n",
    "\n",
    "interact(oplossenII, K=FloatSlider(min=0.1, max=1, step=0.1, value=0.5, description='$K$', style=style, layout=slider_layout)\n",
    "        , c0=FloatSlider(min=1, max=4, step=1, value=4, description='$M_0$', style=style, layout=slider_layout));"
   ]
  },
  {
   "cell_type": "markdown",
   "metadata": {},
   "source": [
    "Het oplossen van een partikel kan soms een erg ingewikkeld proces zijn, bijvoorbeeld omdat verschillende soorten partikels op verschillende momenten in stukken van verschillende grootte uiteen kunnen vallen. Voor sommige partikels zullen zowel het Nernst-Brunner als het Hixson-Crowell model geen accurate beschrijving van de werkelijkheid leveren. We kunnen dan beroep doen op een empirisch model, zoals de Weibull distributie:\n",
    "\n",
    "$$\n",
    "F= F_\\infty \\left( 1 - e^{-\\left(  \\dfrac{t - t_0}{\\tau_d} \\right)^\\beta }\\right).\n",
    "$$\n",
    "\n",
    "Een dergelijk empirisch model is niet gebaseerd op fysische principes, en de parameters hebben ook geen duidelijke fysische interpretatie. Het betreft gewoon een vergelijking waarvan men verwacht dat ze, na een parameterschatting, goed bij experimentele data zal aansluiten."
   ]
  },
  {
   "cell_type": "code",
   "execution_count": 9,
   "metadata": {},
   "outputs": [
    {
     "data": {
      "application/vnd.jupyter.widget-view+json": {
       "model_id": "d8a77c6aff3f4ed2b42781174f8ef303",
       "version_major": 2,
       "version_minor": 0
      },
      "text/plain": [
       "interactive(children=(FloatSlider(value=4.0, description='$F_{\\\\infty}$', layout=Layout(width='50%'), max=5.0,…"
      ]
     },
     "metadata": {},
     "output_type": "display_data"
    }
   ],
   "source": [
    "def oplossenIII(Finf,beta,t0,tau):\n",
    "\n",
    "    xmax=10\n",
    "    ymax=5\n",
    "    def c(t):\n",
    "        return Finf*(1-np.exp(-((t-t0)/tau)**beta))\n",
    "    t = np.linspace(t0,xmax,100)\n",
    "    plt.figure(figsize=(10,7))\n",
    "    plt.subplot(111)\n",
    "    plt.plot(t,c(t), 'k',label='$F(t)$')\n",
    "    plt.xlim(0,xmax)\n",
    "    plt.ylim(0,ymax)\n",
    "    plt.legend()\n",
    "    plt.xlabel('t')\n",
    "    plt.show()\n",
    "\n",
    "\n",
    "interact(oplossenIII, Finf=FloatSlider(min=1, max=5, step=1, value=4, description='$F_{\\infty}$', style=style, layout=slider_layout)\n",
    "        , beta=FloatSlider(min=0.5, max=4, step=0.5, value=1, description=r'$\\beta$', style=style, layout=slider_layout)\n",
    "        , t0=FloatSlider(min=0, max=5, step=1, value=0, description='$t_0$', style=style, layout=slider_layout)\n",
    "        , tau=FloatSlider(min=0.5, max=4, step=0.5, value=1, description=r'$\\tau_d$', style=style, layout=slider_layout));"
   ]
  },
  {
   "cell_type": "code",
   "execution_count": null,
   "metadata": {},
   "outputs": [],
   "source": []
  }
 ],
 "metadata": {
  "kernelspec": {
   "display_name": "Python 3",
   "language": "python",
   "name": "python3"
  },
  "language_info": {
   "codemirror_mode": {
    "name": "ipython",
    "version": 3
   },
   "file_extension": ".py",
   "mimetype": "text/x-python",
   "name": "python",
   "nbconvert_exporter": "python",
   "pygments_lexer": "ipython3",
   "version": "3.7.4"
  }
 },
 "nbformat": 4,
 "nbformat_minor": 4
}
